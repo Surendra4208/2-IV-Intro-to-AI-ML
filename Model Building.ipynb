{
 "cells": [
  {
   "cell_type": "code",
   "execution_count": 4,
   "id": "71e4edf3",
   "metadata": {},
   "outputs": [],
   "source": [
    "from sklearn.linear_model import LinearRegression\n",
    "from sklearn.metrics import mean_absolute_error,mean_squared_error,r2_score"
   ]
  },
  {
   "cell_type": "code",
   "execution_count": 10,
   "id": "47391050",
   "metadata": {},
   "outputs": [
    {
     "name": "stdout",
     "output_type": "stream",
     "text": [
      "    Roll_No  Attendance  Marks\n",
      "0         1          85     80\n",
      "1         2          80     78\n",
      "2         3          90     84\n",
      "3         4          98     95\n",
      "4         5          80     78\n",
      "5         6          70     66\n",
      "6         7          93     92\n",
      "7         8          95     91\n",
      "8         9          75     60\n",
      "9        10          80     78\n",
      "10       11          85     80\n",
      "11       12          76     62\n",
      "12       13          77     67\n",
      "13       14          89     86\n",
      "14       15          91     88\n",
      "15       16          86     80\n",
      "16       17          74     69\n",
      "17       18          64     59\n",
      "18       19          78     70\n",
      "19       20          88     85\n"
     ]
    }
   ],
   "source": [
    "import pandas as pd\n",
    "data=pd.read_csv(r\"C:\\Users\\ML Lab\\Documents\\Book1.csv\")\n",
    "print(data)"
   ]
  },
  {
   "cell_type": "code",
   "execution_count": 20,
   "id": "2a2558db",
   "metadata": {},
   "outputs": [
    {
     "name": "stdout",
     "output_type": "stream",
     "text": [
      "    Attendance\n",
      "0           85\n",
      "1           80\n",
      "2           90\n",
      "3           98\n",
      "4           80\n",
      "5           70\n",
      "6           93\n",
      "7           95\n",
      "8           75\n",
      "9           80\n",
      "10          85\n",
      "11          76\n",
      "12          77\n",
      "13          89\n",
      "14          91\n",
      "15          86\n",
      "16          74\n",
      "17          64\n",
      "18          78\n",
      "19          88\n",
      "(20, 1)\n"
     ]
    }
   ],
   "source": [
    "X=data[['Attendance']]\n",
    "print(X)\n",
    "print(X.shape)\n"
   ]
  },
  {
   "cell_type": "code",
   "execution_count": 25,
   "id": "91ab0261",
   "metadata": {},
   "outputs": [
    {
     "name": "stdout",
     "output_type": "stream",
     "text": [
      "0     80\n",
      "1     78\n",
      "2     84\n",
      "3     95\n",
      "4     78\n",
      "5     66\n",
      "6     92\n",
      "7     91\n",
      "8     60\n",
      "9     78\n",
      "10    80\n",
      "11    62\n",
      "12    67\n",
      "13    86\n",
      "14    88\n",
      "15    80\n",
      "16    69\n",
      "17    59\n",
      "18    70\n",
      "19    85\n",
      "Name: Marks, dtype: int64\n",
      "(20,)\n"
     ]
    }
   ],
   "source": [
    "y=data['Marks']\n",
    "print(y)\n",
    "print(y.shape)"
   ]
  },
  {
   "cell_type": "code",
   "execution_count": 27,
   "id": "0328def7",
   "metadata": {},
   "outputs": [],
   "source": [
    "from sklearn.model_selection import train_test_split"
   ]
  },
  {
   "cell_type": "code",
   "execution_count": 35,
   "id": "22cab0a2",
   "metadata": {},
   "outputs": [],
   "source": [
    "X_train,X_test,y_train,y_test=train_test_split(X,y,test_size=0.3)"
   ]
  },
  {
   "cell_type": "code",
   "execution_count": 36,
   "id": "45d8e380",
   "metadata": {},
   "outputs": [],
   "source": [
    "model=LinearRegression()"
   ]
  },
  {
   "cell_type": "code",
   "execution_count": 37,
   "id": "94d7feb2",
   "metadata": {},
   "outputs": [
    {
     "data": {
      "text/plain": [
       "LinearRegression()"
      ]
     },
     "execution_count": 37,
     "metadata": {},
     "output_type": "execute_result"
    }
   ],
   "source": [
    "model.fit(X_train,y_train)"
   ]
  },
  {
   "cell_type": "code",
   "execution_count": 40,
   "id": "e0eaeb60",
   "metadata": {},
   "outputs": [
    {
     "name": "stdout",
     "output_type": "stream",
     "text": [
      "[74.52464119 81.55282725 92.09510635 80.38146291 71.01054816 72.1819125 ]\n"
     ]
    }
   ],
   "source": [
    "y_predicted_result=model.predict(X_test)\n",
    "print(y_predicted_result)"
   ]
  },
  {
   "cell_type": "code",
   "execution_count": 41,
   "id": "e1ee9de4",
   "metadata": {},
   "outputs": [
    {
     "name": "stdout",
     "output_type": "stream",
     "text": [
      "0.8984887401464028\n"
     ]
    }
   ],
   "source": [
    "R2=r2_score(y_test,y_predicted_result)\n",
    "print(R2)"
   ]
  },
  {
   "cell_type": "code",
   "execution_count": null,
   "id": "647a85d2",
   "metadata": {},
   "outputs": [],
   "source": []
  },
  {
   "cell_type": "code",
   "execution_count": 45,
   "id": "b4033d08",
   "metadata": {},
   "outputs": [
    {
     "name": "stdout",
     "output_type": "stream",
     "text": [
      "[95.60919938]\n"
     ]
    },
    {
     "name": "stderr",
     "output_type": "stream",
     "text": [
      "C:\\ProgramData\\Anaconda3\\lib\\site-packages\\sklearn\\base.py:450: UserWarning: X does not have valid feature names, but LinearRegression was fitted with feature names\n",
      "  warnings.warn(\n"
     ]
    }
   ],
   "source": [
    "result=model.predict([[98]])\n",
    "print(result)"
   ]
  },
  {
   "cell_type": "code",
   "execution_count": null,
   "id": "43ccec16",
   "metadata": {},
   "outputs": [],
   "source": []
  }
 ],
 "metadata": {
  "kernelspec": {
   "display_name": "Python 3 (ipykernel)",
   "language": "python",
   "name": "python3"
  },
  "language_info": {
   "codemirror_mode": {
    "name": "ipython",
    "version": 3
   },
   "file_extension": ".py",
   "mimetype": "text/x-python",
   "name": "python",
   "nbconvert_exporter": "python",
   "pygments_lexer": "ipython3",
   "version": "3.9.13"
  }
 },
 "nbformat": 4,
 "nbformat_minor": 5
}
