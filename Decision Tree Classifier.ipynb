{
 "cells": [
  {
   "cell_type": "code",
   "execution_count": 38,
   "id": "bfa72acf",
   "metadata": {},
   "outputs": [],
   "source": [
    "import pandas as pd\n",
    "import numpy as np\n",
    "import matplotlib.pyplot as plt"
   ]
  },
  {
   "cell_type": "code",
   "execution_count": 39,
   "id": "ad2d217a",
   "metadata": {},
   "outputs": [
    {
     "data": {
      "text/html": [
       "<div>\n",
       "<style scoped>\n",
       "    .dataframe tbody tr th:only-of-type {\n",
       "        vertical-align: middle;\n",
       "    }\n",
       "\n",
       "    .dataframe tbody tr th {\n",
       "        vertical-align: top;\n",
       "    }\n",
       "\n",
       "    .dataframe thead th {\n",
       "        text-align: right;\n",
       "    }\n",
       "</style>\n",
       "<table border=\"1\" class=\"dataframe\">\n",
       "  <thead>\n",
       "    <tr style=\"text-align: right;\">\n",
       "      <th></th>\n",
       "      <th>Pregnancies</th>\n",
       "      <th>Glucose</th>\n",
       "      <th>BloodPressure</th>\n",
       "      <th>SkinThickness</th>\n",
       "      <th>Insulin</th>\n",
       "      <th>BMI</th>\n",
       "      <th>DiabetesPedigreeFunction</th>\n",
       "      <th>Age</th>\n",
       "      <th>Outcome</th>\n",
       "    </tr>\n",
       "  </thead>\n",
       "  <tbody>\n",
       "    <tr>\n",
       "      <th>0</th>\n",
       "      <td>6</td>\n",
       "      <td>148</td>\n",
       "      <td>72</td>\n",
       "      <td>35</td>\n",
       "      <td>0</td>\n",
       "      <td>33.6</td>\n",
       "      <td>0.627</td>\n",
       "      <td>50</td>\n",
       "      <td>1</td>\n",
       "    </tr>\n",
       "    <tr>\n",
       "      <th>1</th>\n",
       "      <td>1</td>\n",
       "      <td>85</td>\n",
       "      <td>66</td>\n",
       "      <td>29</td>\n",
       "      <td>0</td>\n",
       "      <td>26.6</td>\n",
       "      <td>0.351</td>\n",
       "      <td>31</td>\n",
       "      <td>0</td>\n",
       "    </tr>\n",
       "    <tr>\n",
       "      <th>2</th>\n",
       "      <td>8</td>\n",
       "      <td>183</td>\n",
       "      <td>64</td>\n",
       "      <td>0</td>\n",
       "      <td>0</td>\n",
       "      <td>23.3</td>\n",
       "      <td>0.672</td>\n",
       "      <td>32</td>\n",
       "      <td>1</td>\n",
       "    </tr>\n",
       "    <tr>\n",
       "      <th>3</th>\n",
       "      <td>1</td>\n",
       "      <td>89</td>\n",
       "      <td>66</td>\n",
       "      <td>23</td>\n",
       "      <td>94</td>\n",
       "      <td>28.1</td>\n",
       "      <td>0.167</td>\n",
       "      <td>21</td>\n",
       "      <td>0</td>\n",
       "    </tr>\n",
       "    <tr>\n",
       "      <th>4</th>\n",
       "      <td>0</td>\n",
       "      <td>137</td>\n",
       "      <td>40</td>\n",
       "      <td>35</td>\n",
       "      <td>168</td>\n",
       "      <td>43.1</td>\n",
       "      <td>2.288</td>\n",
       "      <td>33</td>\n",
       "      <td>1</td>\n",
       "    </tr>\n",
       "  </tbody>\n",
       "</table>\n",
       "</div>"
      ],
      "text/plain": [
       "   Pregnancies  Glucose  BloodPressure  SkinThickness  Insulin   BMI  \\\n",
       "0            6      148             72             35        0  33.6   \n",
       "1            1       85             66             29        0  26.6   \n",
       "2            8      183             64              0        0  23.3   \n",
       "3            1       89             66             23       94  28.1   \n",
       "4            0      137             40             35      168  43.1   \n",
       "\n",
       "   DiabetesPedigreeFunction  Age  Outcome  \n",
       "0                     0.627   50        1  \n",
       "1                     0.351   31        0  \n",
       "2                     0.672   32        1  \n",
       "3                     0.167   21        0  \n",
       "4                     2.288   33        1  "
      ]
     },
     "execution_count": 39,
     "metadata": {},
     "output_type": "execute_result"
    }
   ],
   "source": [
    "data=pd.read_csv(r\"C:\\Users\\ML Lab\\Downloads\\diabetes.csv\")\n",
    "data.head()"
   ]
  },
  {
   "cell_type": "code",
   "execution_count": 40,
   "id": "f6254d4a",
   "metadata": {},
   "outputs": [
    {
     "data": {
      "text/html": [
       "<div>\n",
       "<style scoped>\n",
       "    .dataframe tbody tr th:only-of-type {\n",
       "        vertical-align: middle;\n",
       "    }\n",
       "\n",
       "    .dataframe tbody tr th {\n",
       "        vertical-align: top;\n",
       "    }\n",
       "\n",
       "    .dataframe thead th {\n",
       "        text-align: right;\n",
       "    }\n",
       "</style>\n",
       "<table border=\"1\" class=\"dataframe\">\n",
       "  <thead>\n",
       "    <tr style=\"text-align: right;\">\n",
       "      <th></th>\n",
       "      <th>Pregnancies</th>\n",
       "      <th>Glucose</th>\n",
       "      <th>BloodPressure</th>\n",
       "      <th>SkinThickness</th>\n",
       "      <th>Insulin</th>\n",
       "      <th>BMI</th>\n",
       "      <th>DiabetesPedigreeFunction</th>\n",
       "      <th>Age</th>\n",
       "    </tr>\n",
       "  </thead>\n",
       "  <tbody>\n",
       "    <tr>\n",
       "      <th>0</th>\n",
       "      <td>6</td>\n",
       "      <td>148</td>\n",
       "      <td>72</td>\n",
       "      <td>35</td>\n",
       "      <td>0</td>\n",
       "      <td>33.6</td>\n",
       "      <td>0.627</td>\n",
       "      <td>50</td>\n",
       "    </tr>\n",
       "    <tr>\n",
       "      <th>1</th>\n",
       "      <td>1</td>\n",
       "      <td>85</td>\n",
       "      <td>66</td>\n",
       "      <td>29</td>\n",
       "      <td>0</td>\n",
       "      <td>26.6</td>\n",
       "      <td>0.351</td>\n",
       "      <td>31</td>\n",
       "    </tr>\n",
       "    <tr>\n",
       "      <th>2</th>\n",
       "      <td>8</td>\n",
       "      <td>183</td>\n",
       "      <td>64</td>\n",
       "      <td>0</td>\n",
       "      <td>0</td>\n",
       "      <td>23.3</td>\n",
       "      <td>0.672</td>\n",
       "      <td>32</td>\n",
       "    </tr>\n",
       "    <tr>\n",
       "      <th>3</th>\n",
       "      <td>1</td>\n",
       "      <td>89</td>\n",
       "      <td>66</td>\n",
       "      <td>23</td>\n",
       "      <td>94</td>\n",
       "      <td>28.1</td>\n",
       "      <td>0.167</td>\n",
       "      <td>21</td>\n",
       "    </tr>\n",
       "    <tr>\n",
       "      <th>4</th>\n",
       "      <td>0</td>\n",
       "      <td>137</td>\n",
       "      <td>40</td>\n",
       "      <td>35</td>\n",
       "      <td>168</td>\n",
       "      <td>43.1</td>\n",
       "      <td>2.288</td>\n",
       "      <td>33</td>\n",
       "    </tr>\n",
       "    <tr>\n",
       "      <th>...</th>\n",
       "      <td>...</td>\n",
       "      <td>...</td>\n",
       "      <td>...</td>\n",
       "      <td>...</td>\n",
       "      <td>...</td>\n",
       "      <td>...</td>\n",
       "      <td>...</td>\n",
       "      <td>...</td>\n",
       "    </tr>\n",
       "    <tr>\n",
       "      <th>763</th>\n",
       "      <td>10</td>\n",
       "      <td>101</td>\n",
       "      <td>76</td>\n",
       "      <td>48</td>\n",
       "      <td>180</td>\n",
       "      <td>32.9</td>\n",
       "      <td>0.171</td>\n",
       "      <td>63</td>\n",
       "    </tr>\n",
       "    <tr>\n",
       "      <th>764</th>\n",
       "      <td>2</td>\n",
       "      <td>122</td>\n",
       "      <td>70</td>\n",
       "      <td>27</td>\n",
       "      <td>0</td>\n",
       "      <td>36.8</td>\n",
       "      <td>0.340</td>\n",
       "      <td>27</td>\n",
       "    </tr>\n",
       "    <tr>\n",
       "      <th>765</th>\n",
       "      <td>5</td>\n",
       "      <td>121</td>\n",
       "      <td>72</td>\n",
       "      <td>23</td>\n",
       "      <td>112</td>\n",
       "      <td>26.2</td>\n",
       "      <td>0.245</td>\n",
       "      <td>30</td>\n",
       "    </tr>\n",
       "    <tr>\n",
       "      <th>766</th>\n",
       "      <td>1</td>\n",
       "      <td>126</td>\n",
       "      <td>60</td>\n",
       "      <td>0</td>\n",
       "      <td>0</td>\n",
       "      <td>30.1</td>\n",
       "      <td>0.349</td>\n",
       "      <td>47</td>\n",
       "    </tr>\n",
       "    <tr>\n",
       "      <th>767</th>\n",
       "      <td>1</td>\n",
       "      <td>93</td>\n",
       "      <td>70</td>\n",
       "      <td>31</td>\n",
       "      <td>0</td>\n",
       "      <td>30.4</td>\n",
       "      <td>0.315</td>\n",
       "      <td>23</td>\n",
       "    </tr>\n",
       "  </tbody>\n",
       "</table>\n",
       "<p>768 rows × 8 columns</p>\n",
       "</div>"
      ],
      "text/plain": [
       "     Pregnancies  Glucose  BloodPressure  SkinThickness  Insulin   BMI  \\\n",
       "0              6      148             72             35        0  33.6   \n",
       "1              1       85             66             29        0  26.6   \n",
       "2              8      183             64              0        0  23.3   \n",
       "3              1       89             66             23       94  28.1   \n",
       "4              0      137             40             35      168  43.1   \n",
       "..           ...      ...            ...            ...      ...   ...   \n",
       "763           10      101             76             48      180  32.9   \n",
       "764            2      122             70             27        0  36.8   \n",
       "765            5      121             72             23      112  26.2   \n",
       "766            1      126             60              0        0  30.1   \n",
       "767            1       93             70             31        0  30.4   \n",
       "\n",
       "     DiabetesPedigreeFunction  Age  \n",
       "0                       0.627   50  \n",
       "1                       0.351   31  \n",
       "2                       0.672   32  \n",
       "3                       0.167   21  \n",
       "4                       2.288   33  \n",
       "..                        ...  ...  \n",
       "763                     0.171   63  \n",
       "764                     0.340   27  \n",
       "765                     0.245   30  \n",
       "766                     0.349   47  \n",
       "767                     0.315   23  \n",
       "\n",
       "[768 rows x 8 columns]"
      ]
     },
     "execution_count": 40,
     "metadata": {},
     "output_type": "execute_result"
    }
   ],
   "source": [
    "x=data.iloc[:,:-1]\n",
    "x"
   ]
  },
  {
   "cell_type": "code",
   "execution_count": 41,
   "id": "9cb572a1",
   "metadata": {},
   "outputs": [
    {
     "data": {
      "text/plain": [
       "0      1\n",
       "1      0\n",
       "2      1\n",
       "3      0\n",
       "4      1\n",
       "      ..\n",
       "763    0\n",
       "764    0\n",
       "765    0\n",
       "766    1\n",
       "767    0\n",
       "Name: Outcome, Length: 768, dtype: int64"
      ]
     },
     "execution_count": 41,
     "metadata": {},
     "output_type": "execute_result"
    }
   ],
   "source": [
    "y=data.iloc[:,-1]\n",
    "y"
   ]
  },
  {
   "cell_type": "code",
   "execution_count": 42,
   "id": "1478ba30",
   "metadata": {},
   "outputs": [],
   "source": [
    "from sklearn.metrics import recall_score,precision_score,r2_score,mean_squared_error,f1_score,accuracy_score,confusion_matrix\n",
    "from sklearn.model_selection import train_test_split"
   ]
  },
  {
   "cell_type": "code",
   "execution_count": 43,
   "id": "4098d10a",
   "metadata": {},
   "outputs": [],
   "source": [
    "x_train,x_test,y_train,y_test=train_test_split(x,y,test_size=0.2,random_state=0)\n",
    "from sklearn.ensemble import RandomForestClassifier"
   ]
  },
  {
   "cell_type": "code",
   "execution_count": 44,
   "id": "87c699bf",
   "metadata": {},
   "outputs": [
    {
     "data": {
      "text/plain": [
       "DecisionTreeClassifier(criterion='entropy')"
      ]
     },
     "execution_count": 44,
     "metadata": {},
     "output_type": "execute_result"
    }
   ],
   "source": [
    "from sklearn.tree import DecisionTreeClassifier\n",
    "model1=DecisionTreeClassifier(criterion=\"entropy\")\n",
    "model1.fit(x_train,y_train)"
   ]
  },
  {
   "cell_type": "code",
   "execution_count": 45,
   "id": "5e3fe262",
   "metadata": {},
   "outputs": [
    {
     "data": {
      "text/plain": [
       "array([1, 0, 0, 1, 0, 0, 1, 1, 0, 0, 1, 1, 0, 0, 0, 0, 1, 0, 0, 0, 1, 1,\n",
       "       0, 0, 0, 0, 0, 0, 0, 0, 0, 0, 0, 0, 0, 1, 1, 0, 0, 0, 0, 0, 0, 1,\n",
       "       1, 0, 0, 0, 1, 0, 0, 0, 1, 0, 0, 0, 0, 1, 0, 1, 1, 0, 0, 1, 1, 1,\n",
       "       1, 0, 0, 0, 0, 0, 0, 0, 1, 0, 0, 0, 0, 0, 0, 0, 0, 0, 0, 0, 0, 0,\n",
       "       1, 0, 0, 0, 0, 0, 0, 0, 1, 0, 1, 1, 0, 0, 0, 0, 0, 1, 0, 0, 0, 1,\n",
       "       0, 1, 1, 1, 1, 1, 0, 0, 0, 1, 0, 0, 0, 0, 0, 0, 0, 1, 0, 0, 0, 0,\n",
       "       0, 1, 0, 1, 0, 1, 1, 0, 0, 0, 0, 0, 1, 0, 0, 0, 0, 1, 0, 1, 0, 0],\n",
       "      dtype=int64)"
      ]
     },
     "execution_count": 45,
     "metadata": {},
     "output_type": "execute_result"
    }
   ],
   "source": [
    "y_pred1=model.predict(x_test)\n",
    "y_pred1"
   ]
  },
  {
   "cell_type": "code",
   "execution_count": 46,
   "id": "ef36fcb1",
   "metadata": {},
   "outputs": [
    {
     "name": "stdout",
     "output_type": "stream",
     "text": [
      "F1 score: 0.973687067265049\n"
     ]
    }
   ],
   "source": [
    "# calculating f1 score\n",
    "print('F1 score:', f1_score(y_test, y_pred1,average=\"weighted\"))"
   ]
  },
  {
   "cell_type": "code",
   "execution_count": 47,
   "id": "d6bc305d",
   "metadata": {},
   "outputs": [
    {
     "name": "stdout",
     "output_type": "stream",
     "text": [
      "R2_score: 0.8775104394511831\n",
      "Accuracy: 0.974025974025974\n"
     ]
    }
   ],
   "source": [
    "R2_score=r2_score(y_test,y_pred1)\n",
    "print(\"R2_score:\",R2_score)\n",
    "print(\"Accuracy:\", accuracy_score(y_test,y_pred1))"
   ]
  },
  {
   "cell_type": "code",
   "execution_count": 48,
   "id": "6724475a",
   "metadata": {},
   "outputs": [
    {
     "name": "stdout",
     "output_type": "stream",
     "text": [
      "Recall 0.9148936170212766\n"
     ]
    }
   ],
   "source": [
    "RS=recall_score(y_test,y_pred1)\n",
    "print(\"Recall\",RS)"
   ]
  },
  {
   "cell_type": "code",
   "execution_count": 49,
   "id": "40c43f7e",
   "metadata": {},
   "outputs": [
    {
     "data": {
      "text/plain": [
       "[Text(0.40590469613259667, 0.9722222222222222, 'X[1] <= 123.5\\nentropy = 0.943\\nsamples = 614\\nvalue = [393, 221]'),\n",
       " Text(0.11153314917127072, 0.9166666666666666, 'X[5] <= 26.45\\nentropy = 0.69\\nsamples = 352\\nvalue = [287, 65]'),\n",
       " Text(0.022099447513812154, 0.8611111111111112, 'X[6] <= 0.675\\nentropy = 0.083\\nsamples = 97\\nvalue = [96, 1]'),\n",
       " Text(0.011049723756906077, 0.8055555555555556, 'entropy = 0.0\\nsamples = 79\\nvalue = [79, 0]'),\n",
       " Text(0.03314917127071823, 0.8055555555555556, 'X[6] <= 0.705\\nentropy = 0.31\\nsamples = 18\\nvalue = [17, 1]'),\n",
       " Text(0.022099447513812154, 0.75, 'entropy = 0.0\\nsamples = 1\\nvalue = [0, 1]'),\n",
       " Text(0.04419889502762431, 0.75, 'entropy = 0.0\\nsamples = 17\\nvalue = [17, 0]'),\n",
       " Text(0.20096685082872928, 0.8611111111111112, 'X[7] <= 28.5\\nentropy = 0.813\\nsamples = 255\\nvalue = [191, 64]'),\n",
       " Text(0.09944751381215469, 0.8055555555555556, 'X[5] <= 30.95\\nentropy = 0.549\\nsamples = 134\\nvalue = [117, 17]'),\n",
       " Text(0.06629834254143646, 0.75, 'X[0] <= 7.0\\nentropy = 0.162\\nsamples = 42\\nvalue = [41, 1]'),\n",
       " Text(0.055248618784530384, 0.6944444444444444, 'entropy = 0.0\\nsamples = 41\\nvalue = [41, 0]'),\n",
       " Text(0.07734806629834254, 0.6944444444444444, 'entropy = 0.0\\nsamples = 1\\nvalue = [0, 1]'),\n",
       " Text(0.13259668508287292, 0.75, 'X[2] <= 53.0\\nentropy = 0.667\\nsamples = 92\\nvalue = [76, 16]'),\n",
       " Text(0.09944751381215469, 0.6944444444444444, 'X[6] <= 0.508\\nentropy = 0.918\\nsamples = 6\\nvalue = [2, 4]'),\n",
       " Text(0.08839779005524862, 0.6388888888888888, 'entropy = 0.0\\nsamples = 4\\nvalue = [0, 4]'),\n",
       " Text(0.11049723756906077, 0.6388888888888888, 'entropy = 0.0\\nsamples = 2\\nvalue = [2, 0]'),\n",
       " Text(0.16574585635359115, 0.6944444444444444, 'X[6] <= 0.501\\nentropy = 0.583\\nsamples = 86\\nvalue = [74, 12]'),\n",
       " Text(0.13259668508287292, 0.6388888888888888, 'X[2] <= 73.0\\nentropy = 0.376\\nsamples = 55\\nvalue = [51, 4]'),\n",
       " Text(0.12154696132596685, 0.5833333333333334, 'entropy = 0.0\\nsamples = 30\\nvalue = [30, 0]'),\n",
       " Text(0.143646408839779, 0.5833333333333334, 'X[5] <= 45.35\\nentropy = 0.634\\nsamples = 25\\nvalue = [21, 4]'),\n",
       " Text(0.13259668508287292, 0.5277777777777778, 'X[4] <= 36.5\\nentropy = 0.544\\nsamples = 24\\nvalue = [21, 3]'),\n",
       " Text(0.12154696132596685, 0.4722222222222222, 'X[6] <= 0.187\\nentropy = 0.918\\nsamples = 9\\nvalue = [6, 3]'),\n",
       " Text(0.11049723756906077, 0.4166666666666667, 'entropy = 0.0\\nsamples = 3\\nvalue = [3, 0]'),\n",
       " Text(0.13259668508287292, 0.4166666666666667, 'X[1] <= 109.0\\nentropy = 1.0\\nsamples = 6\\nvalue = [3, 3]'),\n",
       " Text(0.12154696132596685, 0.3611111111111111, 'X[4] <= 18.0\\nentropy = 0.811\\nsamples = 4\\nvalue = [3, 1]'),\n",
       " Text(0.11049723756906077, 0.3055555555555556, 'entropy = 0.0\\nsamples = 3\\nvalue = [3, 0]'),\n",
       " Text(0.13259668508287292, 0.3055555555555556, 'entropy = 0.0\\nsamples = 1\\nvalue = [0, 1]'),\n",
       " Text(0.143646408839779, 0.3611111111111111, 'entropy = 0.0\\nsamples = 2\\nvalue = [0, 2]'),\n",
       " Text(0.143646408839779, 0.4722222222222222, 'entropy = 0.0\\nsamples = 15\\nvalue = [15, 0]'),\n",
       " Text(0.15469613259668508, 0.5277777777777778, 'entropy = 0.0\\nsamples = 1\\nvalue = [0, 1]'),\n",
       " Text(0.19889502762430938, 0.6388888888888888, 'X[5] <= 38.65\\nentropy = 0.824\\nsamples = 31\\nvalue = [23, 8]'),\n",
       " Text(0.1878453038674033, 0.5833333333333334, 'X[5] <= 32.7\\nentropy = 0.946\\nsamples = 22\\nvalue = [14, 8]'),\n",
       " Text(0.17679558011049723, 0.5277777777777778, 'entropy = 0.0\\nsamples = 7\\nvalue = [7, 0]'),\n",
       " Text(0.19889502762430938, 0.5277777777777778, 'X[1] <= 88.5\\nentropy = 0.997\\nsamples = 15\\nvalue = [7, 8]'),\n",
       " Text(0.17679558011049723, 0.4722222222222222, 'X[2] <= 73.5\\nentropy = 0.722\\nsamples = 5\\nvalue = [4, 1]'),\n",
       " Text(0.16574585635359115, 0.4166666666666667, 'entropy = 0.0\\nsamples = 4\\nvalue = [4, 0]'),\n",
       " Text(0.1878453038674033, 0.4166666666666667, 'entropy = 0.0\\nsamples = 1\\nvalue = [0, 1]'),\n",
       " Text(0.22099447513812154, 0.4722222222222222, 'X[2] <= 70.0\\nentropy = 0.881\\nsamples = 10\\nvalue = [3, 7]'),\n",
       " Text(0.20994475138121546, 0.4166666666666667, 'X[0] <= 0.5\\nentropy = 0.544\\nsamples = 8\\nvalue = [1, 7]'),\n",
       " Text(0.19889502762430938, 0.3611111111111111, 'X[4] <= 87.0\\nentropy = 0.918\\nsamples = 3\\nvalue = [1, 2]'),\n",
       " Text(0.1878453038674033, 0.3055555555555556, 'entropy = 0.0\\nsamples = 2\\nvalue = [0, 2]'),\n",
       " Text(0.20994475138121546, 0.3055555555555556, 'entropy = 0.0\\nsamples = 1\\nvalue = [1, 0]'),\n",
       " Text(0.22099447513812154, 0.3611111111111111, 'entropy = 0.0\\nsamples = 5\\nvalue = [0, 5]'),\n",
       " Text(0.23204419889502761, 0.4166666666666667, 'entropy = 0.0\\nsamples = 2\\nvalue = [2, 0]'),\n",
       " Text(0.20994475138121546, 0.5833333333333334, 'entropy = 0.0\\nsamples = 9\\nvalue = [9, 0]'),\n",
       " Text(0.30248618784530384, 0.8055555555555556, 'X[5] <= 27.55\\nentropy = 0.964\\nsamples = 121\\nvalue = [74, 47]'),\n",
       " Text(0.2914364640883978, 0.75, 'entropy = 0.0\\nsamples = 5\\nvalue = [0, 5]'),\n",
       " Text(0.31353591160220995, 0.75, 'X[6] <= 0.159\\nentropy = 0.944\\nsamples = 116\\nvalue = [74, 42]'),\n",
       " Text(0.30248618784530384, 0.6944444444444444, 'entropy = 0.0\\nsamples = 10\\nvalue = [10, 0]'),\n",
       " Text(0.324585635359116, 0.6944444444444444, 'X[1] <= 91.5\\nentropy = 0.969\\nsamples = 106\\nvalue = [64, 42]'),\n",
       " Text(0.26519337016574585, 0.6388888888888888, 'X[1] <= 33.5\\nentropy = 0.691\\nsamples = 27\\nvalue = [22, 5]'),\n",
       " Text(0.2541436464088398, 0.5833333333333334, 'entropy = 0.0\\nsamples = 2\\nvalue = [0, 2]'),\n",
       " Text(0.27624309392265195, 0.5833333333333334, 'X[6] <= 0.796\\nentropy = 0.529\\nsamples = 25\\nvalue = [22, 3]'),\n",
       " Text(0.2541436464088398, 0.5277777777777778, 'X[0] <= 11.5\\nentropy = 0.276\\nsamples = 21\\nvalue = [20, 1]'),\n",
       " Text(0.2430939226519337, 0.4722222222222222, 'entropy = 0.0\\nsamples = 18\\nvalue = [18, 0]'),\n",
       " Text(0.26519337016574585, 0.4722222222222222, 'X[5] <= 31.25\\nentropy = 0.918\\nsamples = 3\\nvalue = [2, 1]'),\n",
       " Text(0.2541436464088398, 0.4166666666666667, 'entropy = 0.0\\nsamples = 1\\nvalue = [0, 1]'),\n",
       " Text(0.27624309392265195, 0.4166666666666667, 'entropy = 0.0\\nsamples = 2\\nvalue = [2, 0]'),\n",
       " Text(0.2983425414364641, 0.5277777777777778, 'X[4] <= 28.5\\nentropy = 1.0\\nsamples = 4\\nvalue = [2, 2]'),\n",
       " Text(0.287292817679558, 0.4722222222222222, 'entropy = 0.0\\nsamples = 2\\nvalue = [0, 2]'),\n",
       " Text(0.30939226519337015, 0.4722222222222222, 'entropy = 0.0\\nsamples = 2\\nvalue = [2, 0]'),\n",
       " Text(0.3839779005524862, 0.6388888888888888, 'X[2] <= 67.0\\nentropy = 0.997\\nsamples = 79\\nvalue = [42, 37]'),\n",
       " Text(0.3314917127071823, 0.5833333333333334, 'X[6] <= 0.405\\nentropy = 0.918\\nsamples = 18\\nvalue = [6, 12]'),\n",
       " Text(0.32044198895027626, 0.5277777777777778, 'entropy = 0.0\\nsamples = 8\\nvalue = [0, 8]'),\n",
       " Text(0.3425414364640884, 0.5277777777777778, 'X[0] <= 6.5\\nentropy = 0.971\\nsamples = 10\\nvalue = [6, 4]'),\n",
       " Text(0.3314917127071823, 0.4722222222222222, 'X[1] <= 119.5\\nentropy = 0.592\\nsamples = 7\\nvalue = [6, 1]'),\n",
       " Text(0.32044198895027626, 0.4166666666666667, 'entropy = 0.0\\nsamples = 6\\nvalue = [6, 0]'),\n",
       " Text(0.3425414364640884, 0.4166666666666667, 'entropy = 0.0\\nsamples = 1\\nvalue = [0, 1]'),\n",
       " Text(0.35359116022099446, 0.4722222222222222, 'entropy = 0.0\\nsamples = 3\\nvalue = [0, 3]'),\n",
       " Text(0.43646408839779005, 0.5833333333333334, 'X[1] <= 119.5\\nentropy = 0.976\\nsamples = 61\\nvalue = [36, 25]'),\n",
       " Text(0.39779005524861877, 0.5277777777777778, 'X[4] <= 112.0\\nentropy = 1.0\\nsamples = 47\\nvalue = [24, 23]'),\n",
       " Text(0.3756906077348066, 0.4722222222222222, 'X[6] <= 1.074\\nentropy = 0.968\\nsamples = 38\\nvalue = [23, 15]'),\n",
       " Text(0.36464088397790057, 0.4166666666666667, 'X[4] <= 100.5\\nentropy = 0.928\\nsamples = 35\\nvalue = [23, 12]'),\n",
       " Text(0.35359116022099446, 0.3611111111111111, 'X[1] <= 96.5\\nentropy = 0.963\\nsamples = 31\\nvalue = [19, 12]'),\n",
       " Text(0.3425414364640884, 0.3055555555555556, 'entropy = 0.0\\nsamples = 4\\nvalue = [4, 0]'),\n",
       " Text(0.36464088397790057, 0.3055555555555556, 'X[6] <= 0.85\\nentropy = 0.991\\nsamples = 27\\nvalue = [15, 12]'),\n",
       " Text(0.35359116022099446, 0.25, 'X[1] <= 105.5\\nentropy = 0.971\\nsamples = 25\\nvalue = [15, 10]'),\n",
       " Text(0.3149171270718232, 0.19444444444444445, 'X[5] <= 35.5\\nentropy = 0.918\\nsamples = 9\\nvalue = [3, 6]'),\n",
       " Text(0.30386740331491713, 0.1388888888888889, 'X[1] <= 100.5\\nentropy = 1.0\\nsamples = 6\\nvalue = [3, 3]'),\n",
       " Text(0.292817679558011, 0.08333333333333333, 'entropy = 0.0\\nsamples = 2\\nvalue = [2, 0]'),\n",
       " Text(0.3149171270718232, 0.08333333333333333, 'X[2] <= 87.0\\nentropy = 0.811\\nsamples = 4\\nvalue = [1, 3]'),\n",
       " Text(0.30386740331491713, 0.027777777777777776, 'entropy = 0.0\\nsamples = 3\\nvalue = [0, 3]'),\n",
       " Text(0.3259668508287293, 0.027777777777777776, 'entropy = 0.0\\nsamples = 1\\nvalue = [1, 0]'),\n",
       " Text(0.3259668508287293, 0.1388888888888889, 'entropy = 0.0\\nsamples = 3\\nvalue = [0, 3]'),\n",
       " Text(0.39226519337016574, 0.19444444444444445, 'X[1] <= 114.5\\nentropy = 0.811\\nsamples = 16\\nvalue = [12, 4]'),\n",
       " Text(0.3701657458563536, 0.1388888888888889, 'X[7] <= 32.0\\nentropy = 0.414\\nsamples = 12\\nvalue = [11, 1]'),\n",
       " Text(0.35911602209944754, 0.08333333333333333, 'X[2] <= 81.0\\nentropy = 0.918\\nsamples = 3\\nvalue = [2, 1]'),\n",
       " Text(0.34806629834254144, 0.027777777777777776, 'entropy = 0.0\\nsamples = 1\\nvalue = [0, 1]'),\n",
       " Text(0.3701657458563536, 0.027777777777777776, 'entropy = 0.0\\nsamples = 2\\nvalue = [2, 0]'),\n",
       " Text(0.3812154696132597, 0.08333333333333333, 'entropy = 0.0\\nsamples = 9\\nvalue = [9, 0]'),\n",
       " Text(0.4143646408839779, 0.1388888888888889, 'X[2] <= 86.0\\nentropy = 0.811\\nsamples = 4\\nvalue = [1, 3]'),\n",
       " Text(0.40331491712707185, 0.08333333333333333, 'entropy = 0.0\\nsamples = 3\\nvalue = [0, 3]'),\n",
       " Text(0.425414364640884, 0.08333333333333333, 'entropy = 0.0\\nsamples = 1\\nvalue = [1, 0]'),\n",
       " Text(0.3756906077348066, 0.25, 'entropy = 0.0\\nsamples = 2\\nvalue = [0, 2]'),\n",
       " Text(0.3756906077348066, 0.3611111111111111, 'entropy = 0.0\\nsamples = 4\\nvalue = [4, 0]'),\n",
       " Text(0.3867403314917127, 0.4166666666666667, 'entropy = 0.0\\nsamples = 3\\nvalue = [0, 3]'),\n",
       " Text(0.4198895027624309, 0.4722222222222222, 'X[7] <= 54.5\\nentropy = 0.503\\nsamples = 9\\nvalue = [1, 8]'),\n",
       " Text(0.4088397790055249, 0.4166666666666667, 'entropy = 0.0\\nsamples = 8\\nvalue = [0, 8]'),\n",
       " Text(0.430939226519337, 0.4166666666666667, 'entropy = 0.0\\nsamples = 1\\nvalue = [1, 0]'),\n",
       " Text(0.47513812154696133, 0.5277777777777778, 'X[0] <= 1.5\\nentropy = 0.592\\nsamples = 14\\nvalue = [12, 2]'),\n",
       " Text(0.46408839779005523, 0.4722222222222222, 'X[1] <= 121.0\\nentropy = 1.0\\nsamples = 4\\nvalue = [2, 2]'),\n",
       " Text(0.4530386740331492, 0.4166666666666667, 'entropy = 0.0\\nsamples = 1\\nvalue = [1, 0]'),\n",
       " Text(0.47513812154696133, 0.4166666666666667, 'X[5] <= 35.75\\nentropy = 0.918\\nsamples = 3\\nvalue = [1, 2]'),\n",
       " Text(0.46408839779005523, 0.3611111111111111, 'entropy = 0.0\\nsamples = 1\\nvalue = [1, 0]'),\n",
       " Text(0.4861878453038674, 0.3611111111111111, 'entropy = 0.0\\nsamples = 2\\nvalue = [0, 2]'),\n",
       " Text(0.4861878453038674, 0.4722222222222222, 'entropy = 0.0\\nsamples = 10\\nvalue = [10, 0]'),\n",
       " Text(0.7002762430939227, 0.9166666666666666, 'X[5] <= 30.05\\nentropy = 0.974\\nsamples = 262\\nvalue = [106, 156]'),\n",
       " Text(0.56353591160221, 0.8611111111111112, 'X[7] <= 26.0\\nentropy = 0.909\\nsamples = 74\\nvalue = [50, 24]'),\n",
       " Text(0.5524861878453039, 0.8055555555555556, 'entropy = 0.0\\nsamples = 19\\nvalue = [19, 0]'),\n",
       " Text(0.574585635359116, 0.8055555555555556, 'X[7] <= 60.5\\nentropy = 0.988\\nsamples = 55\\nvalue = [31, 24]'),\n",
       " Text(0.56353591160221, 0.75, 'X[1] <= 151.5\\nentropy = 1.0\\nsamples = 47\\nvalue = [23, 24]'),\n",
       " Text(0.5414364640883977, 0.6944444444444444, 'X[5] <= 29.55\\nentropy = 0.954\\nsamples = 32\\nvalue = [20, 12]'),\n",
       " Text(0.5303867403314917, 0.6388888888888888, 'X[5] <= 27.35\\nentropy = 0.996\\nsamples = 26\\nvalue = [14, 12]'),\n",
       " Text(0.5082872928176796, 0.5833333333333334, 'X[5] <= 9.8\\nentropy = 0.65\\nsamples = 12\\nvalue = [10, 2]'),\n",
       " Text(0.4972375690607735, 0.5277777777777778, 'entropy = 0.0\\nsamples = 1\\nvalue = [0, 1]'),\n",
       " Text(0.5193370165745856, 0.5277777777777778, 'X[7] <= 59.5\\nentropy = 0.439\\nsamples = 11\\nvalue = [10, 1]'),\n",
       " Text(0.5082872928176796, 0.4722222222222222, 'entropy = 0.0\\nsamples = 9\\nvalue = [9, 0]'),\n",
       " Text(0.5303867403314917, 0.4722222222222222, 'X[5] <= 21.7\\nentropy = 1.0\\nsamples = 2\\nvalue = [1, 1]'),\n",
       " Text(0.5193370165745856, 0.4166666666666667, 'entropy = 0.0\\nsamples = 1\\nvalue = [1, 0]'),\n",
       " Text(0.5414364640883977, 0.4166666666666667, 'entropy = 0.0\\nsamples = 1\\nvalue = [0, 1]'),\n",
       " Text(0.5524861878453039, 0.5833333333333334, 'X[1] <= 127.0\\nentropy = 0.863\\nsamples = 14\\nvalue = [4, 10]'),\n",
       " Text(0.5414364640883977, 0.5277777777777778, 'entropy = 0.0\\nsamples = 5\\nvalue = [0, 5]'),\n",
       " Text(0.56353591160221, 0.5277777777777778, 'X[0] <= 3.5\\nentropy = 0.991\\nsamples = 9\\nvalue = [4, 5]'),\n",
       " Text(0.5524861878453039, 0.4722222222222222, 'entropy = 0.0\\nsamples = 4\\nvalue = [0, 4]'),\n",
       " Text(0.574585635359116, 0.4722222222222222, 'X[0] <= 5.0\\nentropy = 0.722\\nsamples = 5\\nvalue = [4, 1]'),\n",
       " Text(0.56353591160221, 0.4166666666666667, 'entropy = 0.0\\nsamples = 4\\nvalue = [4, 0]'),\n",
       " Text(0.585635359116022, 0.4166666666666667, 'entropy = 0.0\\nsamples = 1\\nvalue = [0, 1]'),\n",
       " Text(0.5524861878453039, 0.6388888888888888, 'entropy = 0.0\\nsamples = 6\\nvalue = [6, 0]'),\n",
       " Text(0.585635359116022, 0.6944444444444444, 'X[5] <= 27.1\\nentropy = 0.722\\nsamples = 15\\nvalue = [3, 12]'),\n",
       " Text(0.574585635359116, 0.6388888888888888, 'entropy = 0.0\\nsamples = 8\\nvalue = [0, 8]'),\n",
       " Text(0.5966850828729282, 0.6388888888888888, 'X[7] <= 36.5\\nentropy = 0.985\\nsamples = 7\\nvalue = [3, 4]'),\n",
       " Text(0.585635359116022, 0.5833333333333334, 'entropy = 0.0\\nsamples = 3\\nvalue = [0, 3]'),\n",
       " Text(0.6077348066298343, 0.5833333333333334, 'X[6] <= 0.947\\nentropy = 0.811\\nsamples = 4\\nvalue = [3, 1]'),\n",
       " Text(0.5966850828729282, 0.5277777777777778, 'entropy = 0.0\\nsamples = 3\\nvalue = [3, 0]'),\n",
       " Text(0.6187845303867403, 0.5277777777777778, 'entropy = 0.0\\nsamples = 1\\nvalue = [0, 1]'),\n",
       " Text(0.585635359116022, 0.75, 'entropy = 0.0\\nsamples = 8\\nvalue = [8, 0]'),\n",
       " Text(0.8370165745856354, 0.8611111111111112, 'X[1] <= 157.5\\nentropy = 0.879\\nsamples = 188\\nvalue = [56, 132]'),\n",
       " Text(0.7237569060773481, 0.8055555555555556, 'X[5] <= 46.15\\nentropy = 0.974\\nsamples = 116\\nvalue = [47, 69]'),\n",
       " Text(0.712707182320442, 0.75, 'X[6] <= 0.331\\nentropy = 0.986\\nsamples = 109\\nvalue = [47, 62]'),\n",
       " Text(0.6574585635359116, 0.6944444444444444, 'X[6] <= 0.302\\nentropy = 0.968\\nsamples = 43\\nvalue = [26, 17]'),\n",
       " Text(0.6464088397790055, 0.6388888888888888, 'X[2] <= 23.0\\nentropy = 0.992\\nsamples = 38\\nvalue = [21, 17]'),\n",
       " Text(0.6353591160220995, 0.5833333333333334, 'entropy = 0.0\\nsamples = 3\\nvalue = [0, 3]'),\n",
       " Text(0.6574585635359116, 0.5833333333333334, 'X[4] <= 460.0\\nentropy = 0.971\\nsamples = 35\\nvalue = [21, 14]'),\n",
       " Text(0.6464088397790055, 0.5277777777777778, 'X[7] <= 34.5\\nentropy = 0.946\\nsamples = 33\\nvalue = [21, 12]'),\n",
       " Text(0.6187845303867403, 0.4722222222222222, 'X[5] <= 31.25\\nentropy = 0.619\\nsamples = 13\\nvalue = [11, 2]'),\n",
       " Text(0.6077348066298343, 0.4166666666666667, 'entropy = 0.0\\nsamples = 1\\nvalue = [0, 1]'),\n",
       " Text(0.6298342541436464, 0.4166666666666667, 'X[0] <= 0.5\\nentropy = 0.414\\nsamples = 12\\nvalue = [11, 1]'),\n",
       " Text(0.6187845303867403, 0.3611111111111111, 'X[4] <= 72.5\\nentropy = 1.0\\nsamples = 2\\nvalue = [1, 1]'),\n",
       " Text(0.6077348066298343, 0.3055555555555556, 'entropy = 0.0\\nsamples = 1\\nvalue = [0, 1]'),\n",
       " Text(0.6298342541436464, 0.3055555555555556, 'entropy = 0.0\\nsamples = 1\\nvalue = [1, 0]'),\n",
       " Text(0.6408839779005525, 0.3611111111111111, 'entropy = 0.0\\nsamples = 10\\nvalue = [10, 0]'),\n",
       " Text(0.6740331491712708, 0.4722222222222222, 'X[1] <= 126.0\\nentropy = 1.0\\nsamples = 20\\nvalue = [10, 10]'),\n",
       " Text(0.6629834254143646, 0.4166666666666667, 'entropy = 0.0\\nsamples = 3\\nvalue = [0, 3]'),\n",
       " Text(0.6850828729281768, 0.4166666666666667, 'X[6] <= 0.226\\nentropy = 0.977\\nsamples = 17\\nvalue = [10, 7]'),\n",
       " Text(0.6629834254143646, 0.3611111111111111, 'X[4] <= 105.0\\nentropy = 0.592\\nsamples = 7\\nvalue = [6, 1]'),\n",
       " Text(0.6519337016574586, 0.3055555555555556, 'entropy = 0.0\\nsamples = 6\\nvalue = [6, 0]'),\n",
       " Text(0.6740331491712708, 0.3055555555555556, 'entropy = 0.0\\nsamples = 1\\nvalue = [0, 1]'),\n",
       " Text(0.7071823204419889, 0.3611111111111111, 'X[7] <= 42.0\\nentropy = 0.971\\nsamples = 10\\nvalue = [4, 6]'),\n",
       " Text(0.6961325966850829, 0.3055555555555556, 'X[4] <= 105.0\\nentropy = 0.918\\nsamples = 6\\nvalue = [4, 2]'),\n",
       " Text(0.6850828729281768, 0.25, 'X[1] <= 138.0\\nentropy = 0.918\\nsamples = 3\\nvalue = [1, 2]'),\n",
       " Text(0.6740331491712708, 0.19444444444444445, 'entropy = 0.0\\nsamples = 2\\nvalue = [0, 2]'),\n",
       " Text(0.6961325966850829, 0.19444444444444445, 'entropy = 0.0\\nsamples = 1\\nvalue = [1, 0]'),\n",
       " Text(0.7071823204419889, 0.25, 'entropy = 0.0\\nsamples = 3\\nvalue = [3, 0]'),\n",
       " Text(0.7182320441988951, 0.3055555555555556, 'entropy = 0.0\\nsamples = 4\\nvalue = [0, 4]'),\n",
       " Text(0.6685082872928176, 0.5277777777777778, 'entropy = 0.0\\nsamples = 2\\nvalue = [0, 2]'),\n",
       " Text(0.6685082872928176, 0.6388888888888888, 'entropy = 0.0\\nsamples = 5\\nvalue = [5, 0]'),\n",
       " Text(0.7679558011049724, 0.6944444444444444, 'X[7] <= 29.5\\nentropy = 0.902\\nsamples = 66\\nvalue = [21, 45]'),\n",
       " Text(0.7237569060773481, 0.6388888888888888, 'X[2] <= 73.0\\nentropy = 0.996\\nsamples = 28\\nvalue = [15, 13]'),\n",
       " Text(0.7016574585635359, 0.5833333333333334, 'X[1] <= 138.5\\nentropy = 0.619\\nsamples = 13\\nvalue = [2, 11]'),\n",
       " Text(0.6906077348066298, 0.5277777777777778, 'entropy = 0.0\\nsamples = 8\\nvalue = [0, 8]'),\n",
       " Text(0.712707182320442, 0.5277777777777778, 'X[6] <= 0.484\\nentropy = 0.971\\nsamples = 5\\nvalue = [2, 3]'),\n",
       " Text(0.7016574585635359, 0.4722222222222222, 'entropy = 0.0\\nsamples = 3\\nvalue = [0, 3]'),\n",
       " Text(0.7237569060773481, 0.4722222222222222, 'entropy = 0.0\\nsamples = 2\\nvalue = [2, 0]'),\n",
       " Text(0.7458563535911602, 0.5833333333333334, 'X[6] <= 0.373\\nentropy = 0.567\\nsamples = 15\\nvalue = [13, 2]'),\n",
       " Text(0.7348066298342542, 0.5277777777777778, 'entropy = 0.0\\nsamples = 2\\nvalue = [0, 2]'),\n",
       " Text(0.7569060773480663, 0.5277777777777778, 'entropy = 0.0\\nsamples = 13\\nvalue = [13, 0]'),\n",
       " Text(0.8121546961325967, 0.6388888888888888, 'X[4] <= 333.5\\nentropy = 0.629\\nsamples = 38\\nvalue = [6, 32]'),\n",
       " Text(0.7900552486187845, 0.5833333333333334, 'X[4] <= 109.0\\nentropy = 0.513\\nsamples = 35\\nvalue = [4, 31]'),\n",
       " Text(0.7790055248618785, 0.5277777777777778, 'X[2] <= 74.0\\nentropy = 0.764\\nsamples = 18\\nvalue = [4, 14]'),\n",
       " Text(0.7679558011049724, 0.4722222222222222, 'entropy = 0.0\\nsamples = 6\\nvalue = [0, 6]'),\n",
       " Text(0.7900552486187845, 0.4722222222222222, 'X[5] <= 32.95\\nentropy = 0.918\\nsamples = 12\\nvalue = [4, 8]'),\n",
       " Text(0.7790055248618785, 0.4166666666666667, 'entropy = 0.0\\nsamples = 4\\nvalue = [0, 4]'),\n",
       " Text(0.8011049723756906, 0.4166666666666667, 'X[0] <= 6.0\\nentropy = 1.0\\nsamples = 8\\nvalue = [4, 4]'),\n",
       " Text(0.7790055248618785, 0.3611111111111111, 'X[5] <= 39.8\\nentropy = 0.811\\nsamples = 4\\nvalue = [1, 3]'),\n",
       " Text(0.7679558011049724, 0.3055555555555556, 'entropy = 0.0\\nsamples = 3\\nvalue = [0, 3]'),\n",
       " Text(0.7900552486187845, 0.3055555555555556, 'entropy = 0.0\\nsamples = 1\\nvalue = [1, 0]'),\n",
       " Text(0.8232044198895028, 0.3611111111111111, 'X[5] <= 41.8\\nentropy = 0.811\\nsamples = 4\\nvalue = [3, 1]'),\n",
       " Text(0.8121546961325967, 0.3055555555555556, 'entropy = 0.0\\nsamples = 3\\nvalue = [3, 0]'),\n",
       " Text(0.8342541436464088, 0.3055555555555556, 'entropy = 0.0\\nsamples = 1\\nvalue = [0, 1]'),\n",
       " Text(0.8011049723756906, 0.5277777777777778, 'entropy = 0.0\\nsamples = 17\\nvalue = [0, 17]'),\n",
       " Text(0.8342541436464088, 0.5833333333333334, 'X[2] <= 64.0\\nentropy = 0.918\\nsamples = 3\\nvalue = [2, 1]'),\n",
       " Text(0.8232044198895028, 0.5277777777777778, 'entropy = 0.0\\nsamples = 1\\nvalue = [0, 1]'),\n",
       " Text(0.8453038674033149, 0.5277777777777778, 'entropy = 0.0\\nsamples = 2\\nvalue = [2, 0]'),\n",
       " Text(0.7348066298342542, 0.75, 'entropy = 0.0\\nsamples = 7\\nvalue = [0, 7]'),\n",
       " Text(0.9502762430939227, 0.8055555555555556, 'X[4] <= 595.0\\nentropy = 0.544\\nsamples = 72\\nvalue = [9, 63]'),\n",
       " Text(0.9226519337016574, 0.75, 'X[6] <= 0.307\\nentropy = 0.474\\nsamples = 69\\nvalue = [7, 62]'),\n",
       " Text(0.9005524861878453, 0.6944444444444444, 'X[6] <= 0.288\\nentropy = 0.852\\nsamples = 18\\nvalue = [5, 13]'),\n",
       " Text(0.8895027624309392, 0.6388888888888888, 'X[1] <= 179.5\\nentropy = 0.696\\nsamples = 16\\nvalue = [3, 13]'),\n",
       " Text(0.8784530386740331, 0.5833333333333334, 'X[1] <= 177.0\\nentropy = 0.881\\nsamples = 10\\nvalue = [3, 7]'),\n",
       " Text(0.8674033149171271, 0.5277777777777778, 'X[0] <= 0.5\\nentropy = 0.544\\nsamples = 8\\nvalue = [1, 7]'),\n",
       " Text(0.856353591160221, 0.4722222222222222, 'entropy = 0.0\\nsamples = 1\\nvalue = [1, 0]'),\n",
       " Text(0.8784530386740331, 0.4722222222222222, 'entropy = 0.0\\nsamples = 7\\nvalue = [0, 7]'),\n",
       " Text(0.8895027624309392, 0.5277777777777778, 'entropy = 0.0\\nsamples = 2\\nvalue = [2, 0]'),\n",
       " Text(0.9005524861878453, 0.5833333333333334, 'entropy = 0.0\\nsamples = 6\\nvalue = [0, 6]'),\n",
       " Text(0.9116022099447514, 0.6388888888888888, 'entropy = 0.0\\nsamples = 2\\nvalue = [2, 0]'),\n",
       " Text(0.9447513812154696, 0.6944444444444444, 'X[7] <= 48.0\\nentropy = 0.239\\nsamples = 51\\nvalue = [2, 49]'),\n",
       " Text(0.9337016574585635, 0.6388888888888888, 'entropy = 0.0\\nsamples = 42\\nvalue = [0, 42]'),\n",
       " Text(0.9558011049723757, 0.6388888888888888, 'X[7] <= 50.5\\nentropy = 0.764\\nsamples = 9\\nvalue = [2, 7]'),\n",
       " Text(0.9447513812154696, 0.5833333333333334, 'entropy = 0.0\\nsamples = 1\\nvalue = [1, 0]'),\n",
       " Text(0.9668508287292817, 0.5833333333333334, 'X[6] <= 1.032\\nentropy = 0.544\\nsamples = 8\\nvalue = [1, 7]'),\n",
       " Text(0.9558011049723757, 0.5277777777777778, 'entropy = 0.0\\nsamples = 7\\nvalue = [0, 7]'),\n",
       " Text(0.9779005524861878, 0.5277777777777778, 'entropy = 0.0\\nsamples = 1\\nvalue = [1, 0]'),\n",
       " Text(0.9779005524861878, 0.75, 'X[5] <= 33.4\\nentropy = 0.918\\nsamples = 3\\nvalue = [2, 1]'),\n",
       " Text(0.9668508287292817, 0.6944444444444444, 'entropy = 0.0\\nsamples = 1\\nvalue = [0, 1]'),\n",
       " Text(0.988950276243094, 0.6944444444444444, 'entropy = 0.0\\nsamples = 2\\nvalue = [2, 0]')]"
      ]
     },
     "execution_count": 49,
     "metadata": {},
     "output_type": "execute_result"
    },
    {
     "data": {
      "image/png": "[encoded data removed]",
      "text/plain": [
       "<Figure size 640x480 with 1 Axes>"
      ]
     },
     "metadata": {},
     "output_type": "display_data"
    }
   ],
   "source": [
    "from sklearn import tree\n",
    "tree.plot_tree(model1)"
   ]
  },
  {
   "cell_type": "code",
   "execution_count": 50,
   "id": "c1d68297",
   "metadata": {},
   "outputs": [
    {
     "data": {
      "text/plain": [
       "array([[107,   0],\n",
       "       [  4,  43]], dtype=int64)"
      ]
     },
     "execution_count": 50,
     "metadata": {},
     "output_type": "execute_result"
    }
   ],
   "source": [
    "y=confusion_matrix(y_test,y_pred1)\n",
    "y"
   ]
  },
  {
   "cell_type": "code",
   "execution_count": 51,
   "id": "8da9e998",
   "metadata": {},
   "outputs": [
    {
     "data": {
      "text/plain": [
       "Text(0.5, 1.0, 'Confusion Matrix')"
      ]
     },
     "execution_count": 51,
     "metadata": {},
     "output_type": "execute_result"
    },
    {
     "data": {
      "image/png": "[encoded data removed]",
      "text/plain": [
       "<Figure size 640x480 with 2 Axes>"
      ]
     },
     "metadata": {},
     "output_type": "display_data"
    }
   ],
   "source": [
    "import seaborn as sns\n",
    "sns.heatmap(y,annot=True,cmap=\"YlGnBu\")\n",
    "plt.title(\"Confusion Matrix\")\n"
   ]
  },
  {
   "cell_type": "code",
   "execution_count": 52,
   "id": "9b581c8f",
   "metadata": {},
   "outputs": [
    {
     "data": {
      "text/plain": [
       "[<matplotlib.lines.Line2D at 0x1dd73d265e0>]"
      ]
     },
     "execution_count": 52,
     "metadata": {},
     "output_type": "execute_result"
    },
    {
     "data": {
      "image/png": "[encoded data removed]",
      "text/plain": [
       "<Figure size 640x480 with 1 Axes>"
      ]
     },
     "metadata": {},
     "output_type": "display_data"
    }
   ],
   "source": [
    "plt.plot(y_test,y_pred1)"
   ]
  },
  {
   "cell_type": "code",
   "execution_count": null,
   "id": "cef4e126",
   "metadata": {},
   "outputs": [],
   "source": []
  }
 ],
 "metadata": {
  "kernelspec": {
   "display_name": "Python 3 (ipykernel)",
   "language": "python",
   "name": "python3"
  },
  "language_info": {
   "codemirror_mode": {
    "name": "ipython",
    "version": 3
   },
   "file_extension": ".py",
   "mimetype": "text/x-python",
   "name": "python",
   "nbconvert_exporter": "python",
   "pygments_lexer": "ipython3",
   "version": "3.9.13"
  }
 },
 "nbformat": 4,
 "nbformat_minor": 5
}
