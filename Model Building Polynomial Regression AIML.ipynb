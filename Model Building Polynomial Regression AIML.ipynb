{
 "cells": [
  {
   "cell_type": "code",
   "execution_count": 1,
   "id": "1ac26ba2",
   "metadata": {},
   "outputs": [],
   "source": [
    "import pandas as pd\n",
    "from sklearn.linear_model import LinearRegression\n",
    "from sklearn.metrics import r2_score,mean_absolute_error"
   ]
  },
  {
   "cell_type": "code",
   "execution_count": 2,
   "id": "ec926a38",
   "metadata": {},
   "outputs": [
    {
     "name": "stdout",
     "output_type": "stream",
     "text": [
      "    Roll_no  Attendence  Marks  Backlogs  Courses\n",
      "0         1          80     82         1        1\n",
      "1         2          75     77         1        2\n",
      "2         3          82     84         2        3\n",
      "3         4          95     97         2        1\n",
      "4         5          75     77         2        1\n",
      "5         6          70     72         2        1\n",
      "6         7          90     92         1        1\n",
      "7         8          95     97         1        2\n",
      "8         9          80     82         1        2\n",
      "9        10          70     72         1        2\n",
      "10       11          92     94         1        1\n",
      "11       12          73     75         1        1\n",
      "12       13          80     82         1        1\n",
      "13       14          90     92         0        1\n",
      "14       15          85     87         0        1\n",
      "15       16          78     80         0        1\n",
      "16       17          79     81         0        1\n",
      "17       18          85     87         0        1\n",
      "18       19          93     95         0        1\n",
      "19       20          91     93         0        2\n"
     ]
    }
   ],
   "source": [
    "data =  pd.read_csv(r\"C:\\Users\\Surendra Babu\\OneDrive\\Documents\\ss.CSV\")\n",
    "print(data)"
   ]
  },
  {
   "cell_type": "code",
   "execution_count": 3,
   "id": "a92d2474",
   "metadata": {},
   "outputs": [
    {
     "name": "stdout",
     "output_type": "stream",
     "text": [
      "    Attendence\n",
      "0           80\n",
      "1           75\n",
      "2           82\n",
      "3           95\n",
      "4           75\n",
      "5           70\n",
      "6           90\n",
      "7           95\n",
      "8           80\n",
      "9           70\n",
      "10          92\n",
      "11          73\n",
      "12          80\n",
      "13          90\n",
      "14          85\n",
      "15          78\n",
      "16          79\n",
      "17          85\n",
      "18          93\n",
      "19          91\n",
      "(20, 1)\n"
     ]
    }
   ],
   "source": [
    "X=data[[\"Attendence\"]]\n",
    "print(X)\n",
    "print(X.shape)"
   ]
  },
  {
   "cell_type": "code",
   "execution_count": 4,
   "id": "bdedb724",
   "metadata": {},
   "outputs": [
    {
     "name": "stdout",
     "output_type": "stream",
     "text": [
      "0     82\n",
      "1     77\n",
      "2     84\n",
      "3     97\n",
      "4     77\n",
      "5     72\n",
      "6     92\n",
      "7     97\n",
      "8     82\n",
      "9     72\n",
      "10    94\n",
      "11    75\n",
      "12    82\n",
      "13    92\n",
      "14    87\n",
      "15    80\n",
      "16    81\n",
      "17    87\n",
      "18    95\n",
      "19    93\n",
      "Name: Marks, dtype: int64\n",
      "(20,)\n"
     ]
    }
   ],
   "source": [
    "y = data[\"Marks\"]\n",
    "print(y)\n",
    "print(y.shape)"
   ]
  },
  {
   "cell_type": "code",
   "execution_count": 5,
   "id": "ff5332ad",
   "metadata": {},
   "outputs": [
    {
     "name": "stdout",
     "output_type": "stream",
     "text": [
      "(14, 1)\n",
      "(6, 1)\n",
      "(14,)\n",
      "(6,)\n"
     ]
    }
   ],
   "source": [
    "from sklearn.model_selection import train_test_split\n",
    "X_train,X_test,y_train,y_test = train_test_split(X,y,test_size=0.3)\n",
    "print(X_train.shape)\n",
    "print(X_test.shape)\n",
    "print(y_train.shape)\n",
    "print(y_test.shape)"
   ]
  },
  {
   "cell_type": "code",
   "execution_count": 14,
   "id": "8d4e7aa5",
   "metadata": {},
   "outputs": [],
   "source": [
    "from sklearn.preprocessing import PolynomialFeatures\n",
    "pf = PolynomialFeatures(2)\n",
    "poly_X = pf.fit_transform(X_train)\n",
    "Model = LinearRegression()\n",
    "Model.fit(poly_X,y_train)\n",
    "poly_X_test = pf.fit_transform(X_test)\n",
    "y_predicted_result = Model.predict(poly_X_test)\n",
    "R2 = r2_score(y_test,y_predicted_result)\n",
    "df = pd.Da\n",
    "taFrame({'Actual_data':y_test, 'Predicted_data':y_predicted_result})"
   ]
  },
  {
   "cell_type": "code",
   "execution_count": 15,
   "id": "33c3b744",
   "metadata": {},
   "outputs": [
    {
     "name": "stdout",
     "output_type": "stream",
     "text": [
      "    Actual_data  Predicted_data\n",
      "4            77            77.0\n",
      "8            82            82.0\n",
      "0            82            82.0\n",
      "7            97            97.0\n",
      "6            92            92.0\n",
      "11           75            75.0\n",
      " \n",
      "[77. 82. 82. 97. 92. 75.]\n",
      " \n",
      "Accuraccy is: 1.0\n",
      " \n",
      "Mean absolute error is: 1.7289873236829104e-13\n",
      " \n",
      "    Attendence\n",
      "4           75\n",
      "8           80\n",
      "0           80\n",
      "7           95\n",
      "6           90\n",
      "11          73\n",
      " \n",
      "4     77\n",
      "8     82\n",
      "0     82\n",
      "7     97\n",
      "6     92\n",
      "11    75\n",
      "Name: Marks, dtype: int64\n"
     ]
    }
   ],
   "source": [
    "print(df)\n",
    "print(\" \")\n",
    "print(y_predicted_result)\n",
    "print(\" \")\n",
    "print(\"Accuraccy is:\",R2)\n",
    "print(\" \")\n",
    "print(\"Mean absolute error is:\",mean_absolute_error(y_test,y_predicted_result))\n",
    "print(\" \")\n",
    "print(X_test)\n",
    "print(\" \")\n",
    "print(y_test)"
   ]
  }
 ],
 "metadata": {
  "kernelspec": {
   "display_name": "Python 3 (ipykernel)",
   "language": "python",
   "name": "python3"
  },
  "language_info": {
   "codemirror_mode": {
    "name": "ipython",
    "version": 3
   },
   "file_extension": ".py",
   "mimetype": "text/x-python",
   "name": "python",
   "nbconvert_exporter": "python",
   "pygments_lexer": "ipython3",
   "version": "3.9.13"
  }
 },
 "nbformat": 4,
 "nbformat_minor": 5
}
