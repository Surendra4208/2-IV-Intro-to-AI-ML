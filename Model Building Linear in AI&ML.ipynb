{
 "cells": [
  {
   "cell_type": "code",
   "execution_count": 24,
   "id": "b7e121d0",
   "metadata": {},
   "outputs": [],
   "source": [
    "from sklearn.linear_model import LinearRegression\n",
    "from sklearn.metrics import mean_absolute_error,mean_squared_error,r2_score"
   ]
  },
  {
   "cell_type": "code",
   "execution_count": 25,
   "id": "17b7f7c9",
   "metadata": {},
   "outputs": [
    {
     "name": "stdout",
     "output_type": "stream",
     "text": [
      "    Roll_No  Attendance  Certifications  Marks\n",
      "0         1          80               2     82\n",
      "1         2          75               2     77\n",
      "2         3          82               3     84\n",
      "3         4          95               5     97\n",
      "4         5          75               2     77\n",
      "5         6          70               2     72\n",
      "6         7          90               4     92\n",
      "7         8          95               5     97\n",
      "8         9          80               3     82\n",
      "9        10          70               2     72\n",
      "10       11          92               4     94\n",
      "11       12          73               2     75\n",
      "12       13          80               3     82\n",
      "13       14          90               4     92\n",
      "14       15          85               3     87\n",
      "15       16          78               2     80\n",
      "16       17          79               2     81\n",
      "17       18          85               3     87\n",
      "18       19          93               4     95\n",
      "19       20          91               4     93\n"
     ]
    }
   ],
   "source": [
    "import pandas as pd\n",
    "data=pd.read_csv(\"C:\\\\Users\\\\Surendra Babu\\\\OneDrive\\\\Documents\\\\Book1.CSV\")\n",
    "print(data)"
   ]
  },
  {
   "cell_type": "code",
   "execution_count": 26,
   "id": "a82e6cd1",
   "metadata": {},
   "outputs": [
    {
     "name": "stdout",
     "output_type": "stream",
     "text": [
      "    Attendance\n",
      "0           80\n",
      "1           75\n",
      "2           82\n",
      "3           95\n",
      "4           75\n",
      "5           70\n",
      "6           90\n",
      "7           95\n",
      "8           80\n",
      "9           70\n",
      "10          92\n",
      "11          73\n",
      "12          80\n",
      "13          90\n",
      "14          85\n",
      "15          78\n",
      "16          79\n",
      "17          85\n",
      "18          93\n",
      "19          91\n",
      "(20, 1)\n"
     ]
    }
   ],
   "source": [
    "X=data[['Attendance']]\n",
    "print(X)\n",
    "print(X.shape)"
   ]
  },
  {
   "cell_type": "code",
   "execution_count": 27,
   "id": "9b25fe66",
   "metadata": {},
   "outputs": [
    {
     "name": "stdout",
     "output_type": "stream",
     "text": [
      "0     82\n",
      "1     77\n",
      "2     84\n",
      "3     97\n",
      "4     77\n",
      "5     72\n",
      "6     92\n",
      "7     97\n",
      "8     82\n",
      "9     72\n",
      "10    94\n",
      "11    75\n",
      "12    82\n",
      "13    92\n",
      "14    87\n",
      "15    80\n",
      "16    81\n",
      "17    87\n",
      "18    95\n",
      "19    93\n",
      "Name: Marks, dtype: int64\n",
      "(20,)\n"
     ]
    }
   ],
   "source": [
    "y=data['Marks']\n",
    "print(y)\n",
    "print(y.shape)"
   ]
  },
  {
   "cell_type": "code",
   "execution_count": 28,
   "id": "61eec2d9",
   "metadata": {},
   "outputs": [],
   "source": [
    "from sklearn.model_selection import train_test_split"
   ]
  },
  {
   "cell_type": "code",
   "execution_count": 29,
   "id": "d570893e",
   "metadata": {},
   "outputs": [
    {
     "name": "stdout",
     "output_type": "stream",
     "text": [
      "(14, 1)\n",
      "(6, 1)\n",
      "(14,)\n",
      "(6,)\n"
     ]
    }
   ],
   "source": [
    "X_train,X_test,y_train,y_test=train_test_split(X,y,test_size=0.3)\n",
    "print(X_train.shape)\n",
    "print(X_test.shape)\n",
    "print(y_train.shape)\n",
    "print(y_test.shape)"
   ]
  },
  {
   "cell_type": "code",
   "execution_count": 30,
   "id": "c3ffa26e",
   "metadata": {},
   "outputs": [],
   "source": [
    "model=LinearRegression()"
   ]
  },
  {
   "cell_type": "code",
   "execution_count": 31,
   "id": "adf8a897",
   "metadata": {},
   "outputs": [
    {
     "data": {
      "text/plain": [
       "LinearRegression()"
      ]
     },
     "execution_count": 31,
     "metadata": {},
     "output_type": "execute_result"
    }
   ],
   "source": [
    "model.fit(X_train,y_train)"
   ]
  },
  {
   "cell_type": "code",
   "execution_count": 32,
   "id": "10608055",
   "metadata": {},
   "outputs": [
    {
     "name": "stdout",
     "output_type": "stream",
     "text": [
      "[72. 77. 82. 82. 93. 75.]\n"
     ]
    }
   ],
   "source": [
    "y_predicted_result=model.predict(X_test)\n",
    "print(y_predicted_result)"
   ]
  },
  {
   "cell_type": "code",
   "execution_count": 33,
   "id": "e6855c1f",
   "metadata": {},
   "outputs": [
    {
     "name": "stdout",
     "output_type": "stream",
     "text": [
      "1.0\n"
     ]
    }
   ],
   "source": [
    "R2=r2_score(y_test,y_predicted_result)\n",
    "print(R2)"
   ]
  },
  {
   "cell_type": "code",
   "execution_count": 35,
   "id": "ed395f61",
   "metadata": {},
   "outputs": [
    {
     "data": {
      "text/plain": [
       "0.0"
      ]
     },
     "execution_count": 35,
     "metadata": {},
     "output_type": "execute_result"
    }
   ],
   "source": [
    "me=mean_absolute_error(y_test,y_predicted_result)\n",
    "me"
   ]
  },
  {
   "cell_type": "code",
   "execution_count": 39,
   "id": "5d10ca4b",
   "metadata": {},
   "outputs": [
    {
     "name": "stderr",
     "output_type": "stream",
     "text": [
      "C:\\Users\\Surendra Babu\\anaconda3\\lib\\site-packages\\sklearn\\base.py:450: UserWarning: X does not have valid feature names, but LinearRegression was fitted with feature names\n",
      "  warnings.warn(\n"
     ]
    },
    {
     "data": {
      "text/plain": [
       "array([97.])"
      ]
     },
     "execution_count": 39,
     "metadata": {},
     "output_type": "execute_result"
    }
   ],
   "source": [
    "r=model.predict([[95]])\n",
    "r"
   ]
  },
  {
   "cell_type": "code",
   "execution_count": null,
   "id": "67b4fc9a",
   "metadata": {},
   "outputs": [],
   "source": []
  }
 ],
 "metadata": {
  "kernelspec": {
   "display_name": "Python 3 (ipykernel)",
   "language": "python",
   "name": "python3"
  },
  "language_info": {
   "codemirror_mode": {
    "name": "ipython",
    "version": 3
   },
   "file_extension": ".py",
   "mimetype": "text/x-python",
   "name": "python",
   "nbconvert_exporter": "python",
   "pygments_lexer": "ipython3",
   "version": "3.9.13"
  }
 },
 "nbformat": 4,
 "nbformat_minor": 5
}
