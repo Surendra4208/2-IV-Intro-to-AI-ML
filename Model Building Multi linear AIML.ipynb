{
 "cells": [
  {
   "cell_type": "code",
   "execution_count": 1,
   "id": "b7e121d0",
   "metadata": {},
   "outputs": [],
   "source": [
    "from sklearn.linear_model import LinearRegression\n",
    "from sklearn.metrics import mean_absolute_error,mean_squared_error,r2_score"
   ]
  },
  {
   "cell_type": "code",
   "execution_count": 2,
   "id": "17b7f7c9",
   "metadata": {
    "scrolled": true
   },
   "outputs": [
    {
     "name": "stdout",
     "output_type": "stream",
     "text": [
      "    Roll_no  Attendence  Marks  Backlogs  Courses\n",
      "0         1          80     82         1        1\n",
      "1         2          75     77         1        2\n",
      "2         3          82     84         2        3\n",
      "3         4          95     97         2        1\n",
      "4         5          75     77         2        1\n",
      "5         6          70     72         2        1\n",
      "6         7          90     92         1        1\n",
      "7         8          95     97         1        2\n",
      "8         9          80     82         1        2\n",
      "9        10          70     72         1        2\n",
      "10       11          92     94         1        1\n",
      "11       12          73     75         1        1\n",
      "12       13          80     82         1        1\n",
      "13       14          90     92         0        1\n",
      "14       15          85     87         0        1\n",
      "15       16          78     80         0        1\n",
      "16       17          79     81         0        1\n",
      "17       18          85     87         0        1\n",
      "18       19          93     95         0        1\n",
      "19       20          91     93         0        2\n"
     ]
    }
   ],
   "source": [
    "import pandas as pd\n",
    "data=pd.read_csv(r\"C:\\Users\\Surendra Babu\\OneDrive\\Documents\\ss.CSV\")\n",
    "print(data)"
   ]
  },
  {
   "cell_type": "code",
   "execution_count": 3,
   "id": "a82e6cd1",
   "metadata": {},
   "outputs": [
    {
     "name": "stdout",
     "output_type": "stream",
     "text": [
      "    Attendence  Backlogs  Courses\n",
      "0           80         1        1\n",
      "1           75         1        2\n",
      "2           82         2        3\n",
      "3           95         2        1\n",
      "4           75         2        1\n",
      "5           70         2        1\n",
      "6           90         1        1\n",
      "7           95         1        2\n",
      "8           80         1        2\n",
      "9           70         1        2\n",
      "10          92         1        1\n",
      "11          73         1        1\n",
      "12          80         1        1\n",
      "13          90         0        1\n",
      "14          85         0        1\n",
      "15          78         0        1\n",
      "16          79         0        1\n",
      "17          85         0        1\n",
      "18          93         0        1\n",
      "19          91         0        2\n",
      "(20, 3)\n"
     ]
    }
   ],
   "source": [
    "X=data[['Attendence','Backlogs','Courses']]\n",
    "print(X)\n",
    "print(X.shape)"
   ]
  },
  {
   "cell_type": "code",
   "execution_count": 4,
   "id": "9b25fe66",
   "metadata": {},
   "outputs": [
    {
     "name": "stdout",
     "output_type": "stream",
     "text": [
      "0     82\n",
      "1     77\n",
      "2     84\n",
      "3     97\n",
      "4     77\n",
      "5     72\n",
      "6     92\n",
      "7     97\n",
      "8     82\n",
      "9     72\n",
      "10    94\n",
      "11    75\n",
      "12    82\n",
      "13    92\n",
      "14    87\n",
      "15    80\n",
      "16    81\n",
      "17    87\n",
      "18    95\n",
      "19    93\n",
      "Name: Marks, dtype: int64\n",
      "(20,)\n"
     ]
    }
   ],
   "source": [
    "y=data['Marks']\n",
    "print(y)\n",
    "print(y.shape)"
   ]
  },
  {
   "cell_type": "code",
   "execution_count": 14,
   "id": "61eec2d9",
   "metadata": {},
   "outputs": [],
   "source": [
    "from sklearn.model_selection import train_test_split"
   ]
  },
  {
   "cell_type": "code",
   "execution_count": 15,
   "id": "d570893e",
   "metadata": {},
   "outputs": [
    {
     "name": "stdout",
     "output_type": "stream",
     "text": [
      "(14, 3)\n",
      "(6, 3)\n",
      "(14,)\n",
      "(6,)\n"
     ]
    }
   ],
   "source": [
    "X_train,X_test,y_train,y_test=train_test_split(X,y,test_size=0.3)\n",
    "print(X_train.shape)\n",
    "print(X_test.shape)\n",
    "print(y_train.shape)\n",
    "print(y_test.shape)"
   ]
  },
  {
   "cell_type": "code",
   "execution_count": 16,
   "id": "c3ffa26e",
   "metadata": {},
   "outputs": [],
   "source": [
    "model=LinearRegression()"
   ]
  },
  {
   "cell_type": "code",
   "execution_count": 17,
   "id": "adf8a897",
   "metadata": {},
   "outputs": [
    {
     "data": {
      "text/plain": [
       "LinearRegression()"
      ]
     },
     "execution_count": 17,
     "metadata": {},
     "output_type": "execute_result"
    }
   ],
   "source": [
    "model.fit(X_train,y_train)"
   ]
  },
  {
   "cell_type": "code",
   "execution_count": 18,
   "id": "10608055",
   "metadata": {},
   "outputs": [
    {
     "name": "stdout",
     "output_type": "stream",
     "text": [
      "[77. 94. 77. 93. 87. 72.]\n"
     ]
    }
   ],
   "source": [
    "y_predicted_result=model.predict(X_test)\n",
    "print(y_predicted_result)"
   ]
  },
  {
   "cell_type": "code",
   "execution_count": 23,
   "id": "e6855c1f",
   "metadata": {},
   "outputs": [
    {
     "name": "stdout",
     "output_type": "stream",
     "text": [
      "R2 score Fit 1.0\n",
      "Mean Squared Error 1.0097419586828951e-28\n"
     ]
    }
   ],
   "source": [
    "from sklearn.metrics import r2_score,mean_squared_error\n",
    "print(\"R2 score Fit\",r2_score(y_test,y_predicted_result))\n",
    "print(\"Mean Squared Error\",mean_squared_error(y_test,y_predicted_result))"
   ]
  },
  {
   "cell_type": "code",
   "execution_count": 20,
   "id": "ed395f61",
   "metadata": {},
   "outputs": [
    {
     "name": "stdout",
     "output_type": "stream",
     "text": [
      "    Actual  Predicted\n",
      "1       77       77.0\n",
      "10      94       94.0\n",
      "4       77       77.0\n",
      "19      93       93.0\n",
      "17      87       87.0\n",
      "9       72       72.0\n"
     ]
    }
   ],
   "source": [
    "df=pd.DataFrame({'Actual':y_test,'Predicted':y_predicted_result})\n",
    "print(df)"
   ]
  },
  {
   "cell_type": "code",
   "execution_count": 21,
   "id": "5d10ca4b",
   "metadata": {},
   "outputs": [
    {
     "name": "stdout",
     "output_type": "stream",
     "text": [
      "1.0\n"
     ]
    }
   ],
   "source": [
    "R2=r2_score(y_test,y_predicted_result)\n",
    "print(R2)"
   ]
  },
  {
   "cell_type": "code",
   "execution_count": 22,
   "id": "241d6ce4",
   "metadata": {},
   "outputs": [
    {
     "name": "stdout",
     "output_type": "stream",
     "text": [
      "[77. 94. 77. 93. 87. 72.]\n",
      "[82.]\n"
     ]
    },
    {
     "name": "stderr",
     "output_type": "stream",
     "text": [
      "C:\\Users\\Surendra Babu\\anaconda3\\lib\\site-packages\\sklearn\\base.py:450: UserWarning: X does not have valid feature names, but LinearRegression was fitted with feature names\n",
      "  warnings.warn(\n"
     ]
    }
   ],
   "source": [
    "y_pred=model.predict(X_test)\n",
    "print(y_pred)\n",
    "print(model.predict([[80,1,1]]))"
   ]
  },
  {
   "cell_type": "code",
   "execution_count": null,
   "id": "61cea5a6",
   "metadata": {},
   "outputs": [],
   "source": []
  }
 ],
 "metadata": {
  "kernelspec": {
   "display_name": "Python 3 (ipykernel)",
   "language": "python",
   "name": "python3"
  },
  "language_info": {
   "codemirror_mode": {
    "name": "ipython",
    "version": 3
   },
   "file_extension": ".py",
   "mimetype": "text/x-python",
   "name": "python",
   "nbconvert_exporter": "python",
   "pygments_lexer": "ipython3",
   "version": "3.9.13"
  }
 },
 "nbformat": 4,
 "nbformat_minor": 5
}
